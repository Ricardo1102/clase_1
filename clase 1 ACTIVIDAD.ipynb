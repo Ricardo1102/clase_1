{
 "cells": [
  {
   "cell_type": "markdown",
   "metadata": {},
   "source": [
    "### PRIMERA CLASE"
   ]
  },
  {
   "cell_type": "code",
   "execution_count": 2,
   "metadata": {},
   "outputs": [
    {
     "name": "stdout",
     "output_type": "stream",
     "text": [
      "hola mundo\n"
     ]
    }
   ],
   "source": [
    "print(\"hola mundo\")"
   ]
  },
  {
   "cell_type": "markdown",
   "metadata": {},
   "source": [
    "### EJERCICIO 1."
   ]
  },
  {
   "cell_type": "code",
   "execution_count": 8,
   "metadata": {},
   "outputs": [
    {
     "name": "stdout",
     "output_type": "stream",
     "text": [
      "Puede tomar cerveza\n"
     ]
    }
   ],
   "source": [
    "#ejercicio 1.\n",
    "#1.0\n",
    "\n",
    "edad=21\n",
    "if edad >=18: #prueba logica\n",
    "    print(\"Puede tomar cerveza\")\n",
    "else:\n",
    "    print(\"NO puede tomar cerveza\")\n",
    "        \n"
   ]
  },
  {
   "cell_type": "code",
   "execution_count": 10,
   "metadata": {},
   "outputs": [
    {
     "name": "stdout",
     "output_type": "stream",
     "text": [
      "Porfavor ingrese la edad17\n",
      "NO puede tomar cerveza\n"
     ]
    }
   ],
   "source": [
    "#2.0\n",
    "#El usuario pueda ingresar la edad por teclado\n",
    "\n",
    "edad= int(input(\"Porfavor ingrese la edad\"))\n",
    "if edad >=18: #prueba logica\n",
    "    print(\"Puede tomar cerveza\")\n",
    "else:\n",
    "    print(\"NO puede tomar cerveza\")"
   ]
  },
  {
   "cell_type": "code",
   "execution_count": 17,
   "metadata": {},
   "outputs": [],
   "source": [
    "#3.0\n",
    "# Creacion de una funcion \n",
    "\n",
    "def ejercicio1(edad):\n",
    "    if edad >=18: #prueba logica\n",
    "        print(\"Puede tomar cerveza\")\n",
    "    else:\n",
    "        print(\"NO puede tomar cerveza\")"
   ]
  },
  {
   "cell_type": "code",
   "execution_count": 19,
   "metadata": {},
   "outputs": [
    {
     "name": "stdout",
     "output_type": "stream",
     "text": [
      "Porfavor ingrese la edad18\n",
      "Puede tomar cerveza\n"
     ]
    }
   ],
   "source": [
    "ejercicio1(int(input(\"Porfavor ingrese la edad\")))"
   ]
  },
  {
   "cell_type": "markdown",
   "metadata": {},
   "source": [
    "### EJERCICIO 2"
   ]
  },
  {
   "cell_type": "code",
   "execution_count": 26,
   "metadata": {},
   "outputs": [
    {
     "name": "stdout",
     "output_type": "stream",
     "text": [
      "compro budweiser\n"
     ]
    }
   ],
   "source": [
    "#Ejercicio 2\n",
    "#Ejercicio 2.0\n",
    "\n",
    "marca = 'budweiser'\n",
    "\n",
    "if marca == 'budweiser':\n",
    "    print('compro', marca) #esta es la recomendable\n",
    "    #print('compro' + marca)\n",
    "elif marca== 'aguila':\n",
    "    print('compro', marca)\n",
    "else:\n",
    "    print('No compro nada')"
   ]
  },
  {
   "cell_type": "code",
   "execution_count": 24,
   "metadata": {},
   "outputs": [
    {
     "name": "stdout",
     "output_type": "stream",
     "text": [
      "La TRM del dia es 3500\n",
      "La TRM del dia es3500\n"
     ]
    }
   ],
   "source": [
    "# Explicacion de tipos de cancatenado\n",
    "\n",
    "TRM = 3500\n",
    "\n",
    "print(\"La TRM del dia es\", TRM)\n",
    "print(\"La TRM del dia es\" + str(TRM))\n"
   ]
  },
  {
   "cell_type": "code",
   "execution_count": 30,
   "metadata": {},
   "outputs": [
    {
     "name": "stdout",
     "output_type": "stream",
     "text": [
      "compro AguilA\n"
     ]
    }
   ],
   "source": [
    "#Ejercicio 2\n",
    "#Ejercicio 2.1\n",
    "\n",
    "marca = 'AguilA'\n",
    "\n",
    "if marca.lower() == 'budweiser':\n",
    "    print('compro', marca) #esta es la recomendable\n",
    "    #print('compro' + marca)\n",
    "elif marca.lower() == 'aguila':\n",
    "    print('compro', marca)\n",
    "else:\n",
    "    print('No compro nada')"
   ]
  },
  {
   "cell_type": "code",
   "execution_count": 28,
   "metadata": {},
   "outputs": [
    {
     "name": "stdout",
     "output_type": "stream",
     "text": [
      "aguila\n",
      "AGUILA\n"
     ]
    }
   ],
   "source": [
    "marca = 'AGUILA'\n",
    "print(marca.lower())\n",
    "marca2 = 'aguila'\n",
    "print(marca2.upper())"
   ]
  },
  {
   "cell_type": "code",
   "execution_count": 32,
   "metadata": {},
   "outputs": [
    {
     "name": "stdout",
     "output_type": "stream",
     "text": [
      "Ingrese la marca:BUDWEISER\n",
      "compro BUDWEISER\n"
     ]
    }
   ],
   "source": [
    "#Ejercicio 2\n",
    "#ejercicio 2.2\n",
    "\n",
    "marca = input(\"Ingrese la marca:\")\n",
    "\n",
    "if marca.lower() == 'budweiser':\n",
    "    print('compro', marca) #esta es la recomendable\n",
    "    #print('compro' + marca)\n",
    "elif marca.lower() == 'aguila':\n",
    "    print('compro', marca)\n",
    "else:\n",
    "    print('No compro nada')"
   ]
  },
  {
   "cell_type": "code",
   "execution_count": 36,
   "metadata": {},
   "outputs": [],
   "source": [
    "#Ejercicio 2\n",
    "#Ejercicio 2.3\n",
    "\n",
    "def seleccioncompra():\n",
    "    marca = input(\"Ingrese la marca:\")\n",
    "\n",
    "    if marca.lower() == 'budweiser':\n",
    "        print('compro', marca) #esta es la recomendable\n",
    "        #print('compro' + marca)\n",
    "    elif marca.lower() == 'aguila':\n",
    "        print('compro', marca)\n",
    "    else:\n",
    "        print('No compro nada')   "
   ]
  },
  {
   "cell_type": "code",
   "execution_count": 38,
   "metadata": {},
   "outputs": [
    {
     "name": "stdout",
     "output_type": "stream",
     "text": [
      "Ingrese la marca:poker\n",
      "No compro nada\n"
     ]
    }
   ],
   "source": [
    "seleccioncompra()"
   ]
  },
  {
   "cell_type": "code",
   "execution_count": null,
   "metadata": {},
   "outputs": [],
   "source": []
  }
 ],
 "metadata": {
  "kernelspec": {
   "display_name": "Python 3",
   "language": "python",
   "name": "python3"
  },
  "language_info": {
   "codemirror_mode": {
    "name": "ipython",
    "version": 3
   },
   "file_extension": ".py",
   "mimetype": "text/x-python",
   "name": "python",
   "nbconvert_exporter": "python",
   "pygments_lexer": "ipython3",
   "version": "3.8.5"
  }
 },
 "nbformat": 4,
 "nbformat_minor": 4
}
